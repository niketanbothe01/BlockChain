{
  "nbformat": 4,
  "nbformat_minor": 0,
  "metadata": {
    "colab": {
      "name": "RainFall.ipynb",
      "provenance": [],
      "collapsed_sections": [],
      "toc_visible": true,
      "include_colab_link": true
    },
    "kernelspec": {
      "name": "python3",
      "display_name": "Python 3"
    },
    "language_info": {
      "name": "python"
    }
  },
  "cells": [
    {
      "cell_type": "markdown",
      "metadata": {
        "id": "view-in-github",
        "colab_type": "text"
      },
      "source": [
        "<a href=\"https://colab.research.google.com/github/niketanbothe01/BlockChain/blob/main/RainFall.ipynb\" target=\"_parent\"><img src=\"https://colab.research.google.com/assets/colab-badge.svg\" alt=\"Open In Colab\"/></a>"
      ]
    },
    {
      "cell_type": "code",
      "execution_count": 14,
      "metadata": {
        "id": "F5J09_-5icKy"
      },
      "outputs": [],
      "source": [
        "import numpy as np\n",
        "from matplotlib import pyplot as plt\n",
        "import common\n",
        "from common import switch_case"
      ]
    },
    {
      "cell_type": "code",
      "source": [
        "cork_rainfall = np.loadtxt(fname = \"Dataset/CorkRainfall.txt\")  "
      ],
      "metadata": {
        "id": "dFvwLisxjrB7"
      },
      "execution_count": 15,
      "outputs": []
    },
    {
      "cell_type": "code",
      "source": [
        "from google.colab import drive\n",
        "drive.mount('/content/drive')"
      ],
      "metadata": {
        "colab": {
          "base_uri": "https://localhost:8080/"
        },
        "id": "C0fYpjRoMa6o",
        "outputId": "28ec97fe-9df5-4801-d04b-471f72b05327"
      },
      "execution_count": 16,
      "outputs": [
        {
          "output_type": "stream",
          "name": "stdout",
          "text": [
            "Drive already mounted at /content/drive; to attempt to forcibly remount, call drive.mount(\"/content/drive\", force_remount=True).\n"
          ]
        }
      ]
    },
    {
      "cell_type": "code",
      "source": [
        "dublin_rainfall = np.loadtxt(fname =\"Dataset/DublinRainfall.txt\")"
      ],
      "metadata": {
        "id": "H8B33mgZlx6y"
      },
      "execution_count": 17,
      "outputs": []
    },
    {
      "cell_type": "code",
      "source": [
        "print(\"[Year, Month, Total Rainfall, Most Rainfall in a Day, Number of Rain days]\")"
      ],
      "metadata": {
        "colab": {
          "base_uri": "https://localhost:8080/"
        },
        "id": "g_z8Xndkl0Pc",
        "outputId": "73ae9fcd-b16b-46ad-a375-51292ba31921"
      },
      "execution_count": 18,
      "outputs": [
        {
          "output_type": "stream",
          "name": "stdout",
          "text": [
            "[Year, Month, Total Rainfall, Most Rainfall in a Day, Number of Rain days]\n"
          ]
        }
      ]
    },
    {
      "cell_type": "code",
      "source": [
        "max_most_rainfall = np.amax(cork_rainfall[:,3], axis=0)\n",
        "print(\"Maximum Most Rainfall in a Day: \",max_most_rainfall)"
      ],
      "metadata": {
        "colab": {
          "base_uri": "https://localhost:8080/"
        },
        "id": "H4Eh6hiVl_TA",
        "outputId": "697b7a6d-b725-4b2f-b3e5-892f0d7fee5e"
      },
      "execution_count": 19,
      "outputs": [
        {
          "output_type": "stream",
          "name": "stdout",
          "text": [
            "Maximum Most Rainfall in a Day:  86.7\n"
          ]
        }
      ]
    },
    {
      "cell_type": "code",
      "source": [
        "#average ‘Most Rainfall in a Day’ \n",
        "average_maxRainfall = np.mean(cork_rainfall[:,3], axis=0)\n",
        "print(\"Average ‘Most Rainfall in a Day’: \",average_maxRainfall)"
      ],
      "metadata": {
        "colab": {
          "base_uri": "https://localhost:8080/"
        },
        "id": "cujcCGUBmaN9",
        "outputId": "3ef7d869-c540-4379-a5c1-1aad3fc3e74e"
      },
      "execution_count": 20,
      "outputs": [
        {
          "output_type": "stream",
          "name": "stdout",
          "text": [
            "Average ‘Most Rainfall in a Day’:  22.9105\n"
          ]
        }
      ]
    },
    {
      "cell_type": "code",
      "source": [
        "print(\"available years\")\n",
        "print(np.unique(cork_rainfall[:,0]).astype(int))"
      ],
      "metadata": {
        "colab": {
          "base_uri": "https://localhost:8080/"
        },
        "id": "nosjp32mm5zl",
        "outputId": "d8ef188a-0887-4a5f-aaf7-11098509d6ed"
      },
      "execution_count": 21,
      "outputs": [
        {
          "output_type": "stream",
          "name": "stdout",
          "text": [
            "available years\n",
            "[1962 1963 1964 1965 1966 1967 1968 1969 1970 1971 1972 1973 1974 1975\n",
            " 1976 1977 1978 1979 1980 1981 1982 1983 1984 1985 1986 1987 1988 1989\n",
            " 1990 1991 1992 1993 1994 1995 1996 1997 1998 1999 2000 2001 2002 2003\n",
            " 2004 2005 2006 2007 2008 2009 2010 2011]\n"
          ]
        }
      ]
    },
    {
      "cell_type": "code",
      "source": [
        "#selected_year = int(input(\"Enter the year: \"))\n",
        "selected_year = 1962"
      ],
      "metadata": {
        "id": "ZsxEmsFEnMqw"
      },
      "execution_count": 22,
      "outputs": []
    },
    {
      "cell_type": "code",
      "source": [
        "print(cork_rainfall[cork_rainfall[:, 0] == selected_year][:, 4].sum())"
      ],
      "metadata": {
        "colab": {
          "base_uri": "https://localhost:8080/"
        },
        "id": "MagBO8q2nPc2",
        "outputId": "be84eacb-54b9-4a4c-a31a-958aa155481c"
      },
      "execution_count": 23,
      "outputs": [
        {
          "output_type": "stream",
          "name": "stdout",
          "text": [
            "193.0\n"
          ]
        }
      ]
    },
    {
      "cell_type": "code",
      "source": [
        "month_cum = np.empty(shape=[0])"
      ],
      "metadata": {
        "id": "A0KwTLWGnfbv"
      },
      "execution_count": 24,
      "outputs": []
    },
    {
      "cell_type": "code",
      "source": [
        "for i in range(0,12):\n",
        "    indices = np.arange(i,cork_rainfall.shape[0],12)\n",
        "    #cumulative for each month across all the years and stored in month_cum\n",
        "    month_cum = np.append(month_cum,[np.sum(np.take(cork_rainfall[:,2],indices))])"
      ],
      "metadata": {
        "id": "fFOttCACnife"
      },
      "execution_count": 25,
      "outputs": []
    },
    {
      "cell_type": "code",
      "source": [
        "result = np.where(month_cum == np.amax(month_cum))\n",
        "index=0\n",
        "print(\"Wettest month: \")\n",
        "while index<len(result[0]):\n",
        "    print(switch_case(int(result[index])+1))\n",
        "    index+=1"
      ],
      "metadata": {
        "colab": {
          "base_uri": "https://localhost:8080/"
        },
        "id": "H1t4yHMYnlb7",
        "outputId": "adb59df3-0ddf-4a8b-f5e2-6f3f40e84693"
      },
      "execution_count": 26,
      "outputs": [
        {
          "output_type": "stream",
          "name": "stdout",
          "text": [
            "Wettest month: \n",
            "January\n"
          ]
        }
      ]
    },
    {
      "cell_type": "code",
      "source": [
        "max_threshold = 6"
      ],
      "metadata": {
        "id": "-uPhEbcYo1KW"
      },
      "execution_count": 27,
      "outputs": []
    },
    {
      "cell_type": "code",
      "source": [
        "result_tuple = (np.where(cork_rainfall[:,4] <= max_threshold))\n",
        "print(\"percentage of rows where the number of rain days fell below the threshold:\")\n",
        "print(len(result_tuple[0])/len(cork_rainfall[:,4])*100)"
      ],
      "metadata": {
        "colab": {
          "base_uri": "https://localhost:8080/"
        },
        "id": "4xdoxQ3Oo4uU",
        "outputId": "45c5f129-b000-4afc-c45e-103b6d7a1cc5"
      },
      "execution_count": 28,
      "outputs": [
        {
          "output_type": "stream",
          "name": "stdout",
          "text": [
            "percentage of rows where the number of rain days fell below the threshold:\n",
            "1.5\n"
          ]
        }
      ]
    },
    {
      "cell_type": "code",
      "source": [
        "summer_indices = np.empty(shape=[0])\n",
        "for i in range(5,8):\n",
        "    indices = np.arange(i,cork_rainfall.shape[0],12)\n",
        "    summer_indices = np.append(summer_indices,indices).astype(int)"
      ],
      "metadata": {
        "id": "DgXbBqozpAyJ"
      },
      "execution_count": 29,
      "outputs": []
    },
    {
      "cell_type": "code",
      "source": [
        "total_rainfall_summer = np.sum(np.take(cork_rainfall[:,2],summer_indices))\n",
        "avg_rainfall_summer = (total_rainfall_summer)/len(summer_indices)\n",
        "print(\"avg rainfall summer:\",avg_rainfall_summer)"
      ],
      "metadata": {
        "colab": {
          "base_uri": "https://localhost:8080/"
        },
        "id": "XlXevh4upCBW",
        "outputId": "995df968-c1a7-4bdc-97c5-bbd80c823fcf"
      },
      "execution_count": 30,
      "outputs": [
        {
          "output_type": "stream",
          "name": "stdout",
          "text": [
            "avg rainfall summer: 80.03666666666666\n"
          ]
        }
      ]
    },
    {
      "cell_type": "code",
      "source": [
        "autumn_indices = np.empty(shape=[0])\n",
        "for i in range(8,11):\n",
        "    indices = np.arange(i,cork_rainfall.shape[0],12)\n",
        "    autumn_indices = np.append(autumn_indices,indices).astype(int)"
      ],
      "metadata": {
        "id": "YLNARrrspHXl"
      },
      "execution_count": 31,
      "outputs": []
    },
    {
      "cell_type": "code",
      "source": [
        "total_rainfall_autumn = np.sum(np.take(cork_rainfall[:,2],autumn_indices))\n",
        "avg_rainfall_autumn = (total_rainfall_autumn)/len(autumn_indices)\n",
        "print(\"avg rainfall autumn:\",avg_rainfall_autumn)"
      ],
      "metadata": {
        "colab": {
          "base_uri": "https://localhost:8080/"
        },
        "id": "yT8E6-jbpJ2w",
        "outputId": "d08234da-b7b9-4a93-a1de-2b42b849483b"
      },
      "execution_count": 32,
      "outputs": [
        {
          "output_type": "stream",
          "name": "stdout",
          "text": [
            "avg rainfall autumn: 114.45933333333335\n"
          ]
        }
      ]
    },
    {
      "cell_type": "code",
      "source": [
        "dublin_rainfall = np.loadtxt(fname =\"Dataset/DublinRainfall.txt\")\n",
        "np.savetxt(\"CorkDublinRainfall.csv\", np.concatenate((cork_rainfall, dublin_rainfall)),['%d','%0.2d','%.1f','%.1f','%d'],delimiter=',', header='Year, Month, Total Rainfall, Most Rainfall in a Day, Number of Rain days',newline='\\n');"
      ],
      "metadata": {
        "id": "cUV8Xs_fpPwg"
      },
      "execution_count": 33,
      "outputs": []
    }
  ]
}